{
 "cells": [
  {
   "cell_type": "markdown",
   "metadata": {},
   "source": [
    "# FLIP (00): Data Science \n",
    "**(Module 00: Python Basics)**\n",
    "\n",
    "---\n",
    "- Materials in this module include resources collected from various open-source online repositories.\n",
    "- You are free to use,but NOT allowed to change and distribute this package.\n",
    "\n",
    "Prepared by and for \n",
    "**Student Members** |\n",
    "2006-2018 [TULIP Lab](http://www.tulip.org.au), Australia\n",
    "\n",
    "---\n",
    "\n",
    "\n",
    "# Session 4 Python Packages and Your Data\n",
    "\n",
    "In this week, we will learn how to use Python Packages to manipulate the data and files.\n",
    "\n",
    "Please note that:\n",
    "\n",
    "1. Some of the Packages might not work in Python 3;\n",
    "1. If the code doesn't work, you can either change the code (or your own) in Python 3, or you can create a Python 2 Environment in Anaconda, and get the codes running there."
   ]
  },
  {
   "cell_type": "markdown",
   "metadata": {},
   "source": [
    "## Content\n",
    "\n",
    "\n",
    "\n",
    "### Part 1 Python packages\n",
    "\n",
    "1.1 [Standard Libary](#standlib)\n",
    "\n",
    "1.2 [Third Party Packages](#3rdparty)\n",
    "\n",
    "1.3 [How to Install a Package](#installpack)\n",
    "\n",
    "1.4 [Importing a module](#importmod) \n",
    "\n",
    "\n",
    "### Part 2 Python Simple IO\n",
    "\n",
    "2.1 [Input](#input)\n",
    "\n",
    "2.2 [Output](#output)\n",
    "\n",
    "\n",
    "### Part 3 Datetime Module\n",
    "\n",
    "3.1 [Time](#time)\n",
    "\n",
    "3.2 [Date](#date)\n",
    "\n",
    "3.3 [Timedelta](#timedelta)\n",
    "\n",
    "3.4 [Formatting and Parsing](#parsing)\n",
    "\n",
    "### Part 4 Tweeter API\n",
    "\n",
    "4.1 [Search Tweeter](#tweeter)\n",
    "\n",
    "4.2 [Geo-Visualization](#geo)\n",
    "\n",
    "\n",
    "### Part 5 Numpy Module\n",
    "\n",
    "5.1 [Importing Numpy](#importnp)\n",
    "\n",
    "5.2 [Numpy arrays](#nparray)\n",
    "\n",
    "5.3 [Manipulating arrays](#maninp)\n",
    "\n",
    "5.4 [Array Operations](#arrayop)\n",
    "\n",
    "5.5 [np.random](#random)\n",
    "\n",
    "5.6 [Vectorizing Functions](#vecfunc)\n",
    "\n",
    "\n",
    "\n",
    "### Part 6 Data Loading\n",
    "\n",
    "6.1 [TXT](#txt)\n",
    "\n",
    "6.2 [CSV](#csv)\n",
    "\n",
    "6.3 [JSON](#json)\n",
    "\n"
   ]
  },
  {
   "cell_type": "markdown",
   "metadata": {},
   "source": [
    "---\n",
    "## <span style=\"color:#0b486b\">1. Python packages</span>"
   ]
  },
  {
   "cell_type": "markdown",
   "metadata": {},
   "source": [
    "After completing previous Python sessions, you should know about the syntax and semantics of the Python language. But apart from that, you should also learn about Python libraries and its packages to be able to code efficiently. Python’s standard library is very extensive, offering a wide range of facilities as indicated [here](https://docs.python.org/2/library/). The library contains built-in modules (written in C) that provide access to system functionality such as file I/O that would otherwise be inaccessible to Python programmers, as well as modules written in Python that provide standardized solutions for many problems that occur in everyday programming. Look at the [Python Standard Library Manual](https://docs.python.org/2/library/) to read more.\n",
    "\n",
    "In addition to the standard library, there is a growing collection of several thousand components (from individual programs and modules to packages and entire application development frameworks), available from the [Python Package Index](https://pypi.python.org/pypi)."
   ]
  },
  {
   "cell_type": "markdown",
   "metadata": {},
   "source": [
    "<a id = \"standlib\"></a>\n",
    "\n",
    "### <span style=\"color:#0b486b\">1.1 Standard libraries</span>"
   ]
  },
  {
   "cell_type": "markdown",
   "metadata": {},
   "source": [
    "For a complete list of Python standard library and their documentation look at the [Python Manual.](https://docs.python.org/2/library/) A few to mention are:\n",
    "\n",
    "* ``math`` for numeric and math-related functions and data types\n",
    "* ``urllib`` for fetching data across the web\n",
    "* ``datetime`` for manipulating dates and times\n",
    "* ``pickle`` and ``cPickle`` for serializing and deserializing data structures enabling us to save our variables on the disk and load them from the disk\n",
    "* ``os`` for os dependent functions"
   ]
  },
  {
   "cell_type": "markdown",
   "metadata": {},
   "source": [
    "<a id = \"3rdparty\"></a>\n",
    "\n",
    "### <span style=\"color:#0b486b\">1.2 Third party packages</span>"
   ]
  },
  {
   "cell_type": "markdown",
   "metadata": {},
   "source": [
    "There are thousands of third party packages, each developed for a special task. Some of the useful libraries for data science are:\n",
    "\n",
    "* ``numpy`` is probably the most fundamental package for efficient scientific computing in Python\n",
    "* ``scipy`` is one of the core packages for scientific computations\n",
    "* ``pandas`` is a library for operating with table-like data structures called DataFrame object\n",
    "* ``matplotlib`` is a comprehensive plotting library\n",
    "* ``BeautifulSoup`` is an HTML and XML parser\n",
    "* ``scikit-learn`` is the most general machine learning library for Python\n",
    "* ``nltk`` is a toolkit for natural language processing"
   ]
  },
  {
   "cell_type": "markdown",
   "metadata": {},
   "source": [
    "<a id = \"installpack\"></a>\n",
    "### <span style=\"color:#0b486b\">1.3 How to install a package</span>"
   ]
  },
  {
   "cell_type": "markdown",
   "metadata": {},
   "source": [
    "The easiest way to install a package is using `conda` (if you are using Anaconda) or `pip` commands. Suppose you want to install the package `NLTK`. Either:\n",
    "    \n",
    "    > conda install nltk\n",
    "    \n",
    "or    \n",
    "    \n",
    "    > pip install nltk\n",
    "    \n",
    "    \n",
    "will install the package."
   ]
  },
  {
   "cell_type": "markdown",
   "metadata": {},
   "source": [
    "---\n",
    "<a id = \"importmod\"></a>\n",
    "### <span style=\"color:#0b486b\">1.4 Importing a module</span>"
   ]
  },
  {
   "cell_type": "markdown",
   "metadata": {},
   "source": [
    "To use a module, first you have to ``import`` it. There are different ways to import a module:\n",
    "\n",
    "* `import my_module`\n",
    "* `from my_module import my_function`\n",
    "* `from my_module import my_function as func`\n",
    "* `from my_module import submodule`\n",
    "* `from my_module import submodule as sub`\n",
    "* `from my_module import *`"
   ]
  },
  {
   "cell_type": "markdown",
   "metadata": {},
   "source": [
    "**`'import my_module'`** imports the module `'my_module'` and creates a reference to it in the namespace. For example `'import math'` imports the module `'math'` into the namespace. After importing the module this way, you can use the dot operator `(.)` to refer to the objects defined in the module. For example `'math.exp()'` refers to function `'exp()'` in module `'math'`."
   ]
  },
  {
   "cell_type": "code",
   "execution_count": 1,
   "metadata": {},
   "outputs": [
    {
     "output_type": "stream",
     "name": "stdout",
     "text": [
      "e^2 is 7.38905609893065 and log(2) is 0.6931471805599453\n"
     ]
    }
   ],
   "source": [
    "import math\n",
    "\n",
    "x = 2\n",
    "y1 = math.exp(x)\n",
    "y2 = math.log(x)\n",
    "\n",
    "print( \"e^{} is {} and log({}) is {}\" .format(x, y1, x, y2))\n"
   ]
  },
  {
   "cell_type": "markdown",
   "metadata": {},
   "source": [
    "**`'from my_module import my_function'`** only imports the function `'my_function'` from the module `'my_module'` into the namespace. This way you won't have access to neither the module (since you have not imported the module), nor the other objects of the module. You can only have access to the object you have imported.\n",
    "\n",
    "You can use a comma to import multiple objects."
   ]
  },
  {
   "cell_type": "code",
   "execution_count": 2,
   "metadata": {},
   "outputs": [
    {
     "name": "stdout",
     "output_type": "stream",
     "text": [
      "e^2 is 7.38905609893065\n"
     ]
    }
   ],
   "source": [
    "from math import exp\n",
    "\n",
    "x = 2\n",
    "y = exp(x)  # no need to math.exp()\n",
    "\n",
    "print (\"e^{} is {}\".format(x, y))"
   ]
  },
  {
   "cell_type": "markdown",
   "metadata": {},
   "source": [
    "**`'from my_module import my_function as func'`** imports the function `'my_function'` from module `'my_module'` but its identifier in the namespace is changed into `'func'`. This syntax is used to import submodules of a module as well. For example later you will see that nowadays it is almost a convention to import matplotlib.pyplot as plt."
   ]
  },
  {
   "cell_type": "code",
   "execution_count": 3,
   "metadata": {},
   "outputs": [
    {
     "name": "stdout",
     "output_type": "stream",
     "text": [
      "e^2 is 7.38905609893065\n"
     ]
    }
   ],
   "source": [
    "# you can change the name of the imported object\n",
    "from math import exp as myfun\n",
    "\n",
    "x = 2\n",
    "y = myfun(x)\n",
    "\n",
    "print (\"e^{} is {}\".format(x, y))"
   ]
  },
  {
   "cell_type": "markdown",
   "metadata": {},
   "source": [
    "**`'from my_module import *'`** imports all the public objects defined in `'my_module'` into the namespace. Therefore after this statement you can simply use the plain name of the object to refer to it and there is no need to use the dot operator:"
   ]
  },
  {
   "cell_type": "code",
   "execution_count": 4,
   "metadata": {},
   "outputs": [
    {
     "name": "stdout",
     "output_type": "stream",
     "text": [
      "e^2 is 7.38905609893065 and log(2) is 0.6931471805599453\n"
     ]
    }
   ],
   "source": [
    "from math import *\n",
    "\n",
    "x = 2\n",
    "y1 = exp(x)\n",
    "y2 = log(x)\n",
    "\n",
    "print (\"e^{} is {} and log({}) is {}\".format(x, y1, x, y2))"
   ]
  },
  {
   "cell_type": "markdown",
   "metadata": {},
   "source": [
    "**Exercise1:** \n",
    "\n",
    "1. import the library `math` from standard Python libraries\n",
    "2. define a variable and assign an integer value to it (smaller than 20)\n",
    "3. use `factorial()` function (an object in `math` library) to calculate the factorial of the variable\n",
    "4. print its value"
   ]
  },
  {
   "cell_type": "code",
   "execution_count": 5,
   "metadata": {},
   "outputs": [
    {
     "name": "stdout",
     "output_type": "stream",
     "text": [
      "3628800\n"
     ]
    }
   ],
   "source": [
    "# your code here\n",
    "import math\n",
    "n = 10\n",
    "print( math.factorial(10))"
   ]
  },
  {
   "cell_type": "markdown",
   "metadata": {},
   "source": [
    "**Exercise2:**\n",
    "\n",
    "1. write a function that takes an integer variable and returns its factorial\n",
    "2. use it to find the factorial of the variable defined in Exercise1\n",
    "3. do your answeres match?"
   ]
  },
  {
   "cell_type": "code",
   "execution_count": 6,
   "metadata": {},
   "outputs": [
    {
     "name": "stdout",
     "output_type": "stream",
     "text": [
      "3628800\n"
     ]
    }
   ],
   "source": [
    "# your code here\n",
    "def my_factorial(n):\n",
    "    if n==1:\n",
    "        return 1\n",
    "    else:\n",
    "        return n * my_factorial(n-1)\n",
    "    \n",
    "print (my_factorial(10))"
   ]
  },
  {
   "cell_type": "markdown",
   "metadata": {},
   "source": [
    "---\n",
    "\n",
    "## <span style=\"color:#0b486b\">2. Python simple input/output</span>\n",
    "\n",
    "<a id = \"input\"></a>\n",
    "\n",
    "### <span style=\"color:#0b486b\">2.1 Input</span>\n",
    "\n",
    "`raw_input()` asks the user for a string of data (ended with a newline), and simply returns the string."
   ]
  },
  {
   "cell_type": "code",
   "execution_count": 8,
   "metadata": {},
   "outputs": [
    {
     "ename": "KeyboardInterrupt",
     "evalue": "Interrupted by user",
     "output_type": "error",
     "traceback": [
      "\u001b[1;31m---------------------------------------------------------------------------\u001b[0m",
      "\u001b[1;31mKeyboardInterrupt\u001b[0m                         Traceback (most recent call last)",
      "\u001b[1;32m<ipython-input-8-eef51abe4359>\u001b[0m in \u001b[0;36m<module>\u001b[1;34m\u001b[0m\n\u001b[1;32m----> 1\u001b[1;33m \u001b[0mx\u001b[0m \u001b[1;33m=\u001b[0m \u001b[0minput\u001b[0m\u001b[1;33m(\u001b[0m\u001b[1;34m'What is your name? '\u001b[0m\u001b[1;33m)\u001b[0m\u001b[1;33m\u001b[0m\u001b[0m\n\u001b[0m\u001b[0;32m      2\u001b[0m \u001b[1;33m\u001b[0m\u001b[0m\n\u001b[0;32m      3\u001b[0m \u001b[0mprint\u001b[0m \u001b[1;33m(\u001b[0m\u001b[1;34m\"x is {}\"\u001b[0m\u001b[1;33m.\u001b[0m\u001b[0mformat\u001b[0m\u001b[1;33m(\u001b[0m\u001b[0mtype\u001b[0m\u001b[1;33m(\u001b[0m\u001b[0mx\u001b[0m\u001b[1;33m)\u001b[0m\u001b[1;33m)\u001b[0m\u001b[1;33m)\u001b[0m\u001b[1;33m\u001b[0m\u001b[0m\n\u001b[0;32m      4\u001b[0m \u001b[0mprint\u001b[0m \u001b[1;33m(\u001b[0m\u001b[1;34m\"Your name is {}\"\u001b[0m\u001b[1;33m.\u001b[0m\u001b[0mformat\u001b[0m\u001b[1;33m(\u001b[0m\u001b[0mx\u001b[0m\u001b[1;33m)\u001b[0m\u001b[1;33m)\u001b[0m\u001b[1;33m\u001b[0m\u001b[0m\n",
      "\u001b[1;32mc:\\users\\123\\appdata\\local\\programs\\python\\python37\\lib\\site-packages\\ipykernel\\kernelbase.py\u001b[0m in \u001b[0;36mraw_input\u001b[1;34m(self, prompt)\u001b[0m\n\u001b[0;32m    861\u001b[0m             \u001b[0mself\u001b[0m\u001b[1;33m.\u001b[0m\u001b[0m_parent_ident\u001b[0m\u001b[1;33m,\u001b[0m\u001b[1;33m\u001b[0m\u001b[0m\n\u001b[0;32m    862\u001b[0m             \u001b[0mself\u001b[0m\u001b[1;33m.\u001b[0m\u001b[0m_parent_header\u001b[0m\u001b[1;33m,\u001b[0m\u001b[1;33m\u001b[0m\u001b[0m\n\u001b[1;32m--> 863\u001b[1;33m             \u001b[0mpassword\u001b[0m\u001b[1;33m=\u001b[0m\u001b[1;32mFalse\u001b[0m\u001b[1;33m,\u001b[0m\u001b[1;33m\u001b[0m\u001b[0m\n\u001b[0m\u001b[0;32m    864\u001b[0m         )\n\u001b[0;32m    865\u001b[0m \u001b[1;33m\u001b[0m\u001b[0m\n",
      "\u001b[1;32mc:\\users\\123\\appdata\\local\\programs\\python\\python37\\lib\\site-packages\\ipykernel\\kernelbase.py\u001b[0m in \u001b[0;36m_input_request\u001b[1;34m(self, prompt, ident, parent, password)\u001b[0m\n\u001b[0;32m    902\u001b[0m             \u001b[1;32mexcept\u001b[0m \u001b[0mKeyboardInterrupt\u001b[0m\u001b[1;33m:\u001b[0m\u001b[1;33m\u001b[0m\u001b[0m\n\u001b[0;32m    903\u001b[0m                 \u001b[1;31m# re-raise KeyboardInterrupt, to truncate traceback\u001b[0m\u001b[1;33m\u001b[0m\u001b[1;33m\u001b[0m\u001b[0m\n\u001b[1;32m--> 904\u001b[1;33m                 \u001b[1;32mraise\u001b[0m \u001b[0mKeyboardInterrupt\u001b[0m\u001b[1;33m(\u001b[0m\u001b[1;34m\"Interrupted by user\"\u001b[0m\u001b[1;33m)\u001b[0m \u001b[1;32mfrom\u001b[0m \u001b[1;32mNone\u001b[0m\u001b[1;33m\u001b[0m\u001b[0m\n\u001b[0m\u001b[0;32m    905\u001b[0m             \u001b[1;32mexcept\u001b[0m \u001b[0mException\u001b[0m \u001b[1;32mas\u001b[0m \u001b[0me\u001b[0m\u001b[1;33m:\u001b[0m\u001b[1;33m\u001b[0m\u001b[0m\n\u001b[0;32m    906\u001b[0m                 \u001b[0mself\u001b[0m\u001b[1;33m.\u001b[0m\u001b[0mlog\u001b[0m\u001b[1;33m.\u001b[0m\u001b[0mwarning\u001b[0m\u001b[1;33m(\u001b[0m\u001b[1;34m\"Invalid Message:\"\u001b[0m\u001b[1;33m,\u001b[0m \u001b[0mexc_info\u001b[0m\u001b[1;33m=\u001b[0m\u001b[1;32mTrue\u001b[0m\u001b[1;33m)\u001b[0m\u001b[1;33m\u001b[0m\u001b[0m\n",
      "\u001b[1;31mKeyboardInterrupt\u001b[0m: Interrupted by user"
     ]
    }
   ],
   "source": [
    "x = input('What is your name? ')\n",
    "\n",
    "print (\"x is {}\".format(type(x)))\n",
    "print (\"Your name is {}\".format(x))"
   ]
  },
  {
   "cell_type": "markdown",
   "metadata": {},
   "source": [
    "**Exercise3:**\n",
    "\n",
    "1. use `raw input()` to take a float value between -1 and 1 from the user\n",
    "2. use the function `acos()` from `math` to find the arc cosine of it\n",
    "3. print the value of the variable and its arc cosine"
   ]
  },
  {
   "cell_type": "code",
   "execution_count": null,
   "metadata": {},
   "outputs": [],
   "source": [
    "# your code here\n",
    "import math\n",
    "x = input('Enter a real number between -1 and 1: ')\n",
    "y = math.acos(float(x))\n",
    "print ('acos({}) = {}'.format(x,y))"
   ]
  },
  {
   "cell_type": "markdown",
   "metadata": {},
   "source": [
    "As we know the domain of [arc cosine function][acos] is [-1, 1]. So, what if the value entered by the user is not in the domain (the value is smaller than -1 or greater that 1)? What happens then? \n",
    "\n",
    "To avoid raising a ValueError exception, before passing the value to `acos()` function make sure it is in range and if not, display an appropriate message.\n",
    "\n",
    "[acos]: http://mathworld.wolfram.com/InverseCosine.html"
   ]
  },
  {
   "cell_type": "code",
   "execution_count": null,
   "metadata": {},
   "outputs": [],
   "source": [
    "# your code here\n",
    "x = input('Enter a real number between -1 and 1: ')\n",
    "x = float(x)\n",
    "if x>=-1 and x<=1:\n",
    "    y = math.acos(x)\n",
    "    print ('acos({}) = {}'.format(x,y))\n",
    "else:\n",
    "    print ('Out of range')"
   ]
  },
  {
   "cell_type": "markdown",
   "metadata": {},
   "source": [
    "<a id = \"output\"></a>\n",
    "\n",
    "### <span style=\"color:#0b486b\">2.2 output</span>"
   ]
  },
  {
   "cell_type": "markdown",
   "metadata": {},
   "source": [
    "The basic way to do output is the print statement. To print multiple things on the same line separated by spaces, use commas between them."
   ]
  },
  {
   "cell_type": "code",
   "execution_count": null,
   "metadata": {},
   "outputs": [],
   "source": [
    "name = \"John\"\n",
    "msg = \"Hello\"\n",
    "\n",
    "print (msg)\n",
    "print (msg, name)"
   ]
  },
  {
   "cell_type": "markdown",
   "metadata": {},
   "source": [
    "Objects can be printed on the same line without needing to be on the same line if one puts a comma at the end of a print statement:"
   ]
  },
  {
   "cell_type": "code",
   "execution_count": null,
   "metadata": {},
   "outputs": [],
   "source": [
    "for i in range(10):\n",
    "    print (i)"
   ]
  },
  {
   "cell_type": "markdown",
   "metadata": {},
   "source": [
    "---\n",
    "## <span style=\"color:#0b486b\">3. datetime module</span>\n"
   ]
  },
  {
   "cell_type": "markdown",
   "metadata": {},
   "source": [
    "The datetime module includes functions and classes for date and time parsing, formatting, and arithmetic."
   ]
  },
  {
   "cell_type": "markdown",
   "metadata": {},
   "source": [
    "<a id = \"time\"></a>\n",
    "\n",
    "### <span style=\"color:#0b486b\">3.1 Time</span>\n",
    "\n",
    "Time values are represented with the time class. Times have attributes for hour, minute, second, and microsecond. They can also include time zone information."
   ]
  },
  {
   "cell_type": "code",
   "execution_count": 2,
   "metadata": {},
   "outputs": [
    {
     "output_type": "stream",
     "name": "stdout",
     "text": [
      "11:21:33\nhour  : 11\nminute: 21\nsecond: 33\nmicrosecond: 0\ntzinfo: None\n"
     ]
    }
   ],
   "source": [
    "import datetime\n",
    "\n",
    "t = datetime.time(11, 21, 33)\n",
    "print (t)\n",
    "print ('hour  :', t.hour)\n",
    "print ('minute:', t.minute)\n",
    "print ('second:', t.second)\n",
    "print ('microsecond:', t.microsecond)\n",
    "print ('tzinfo:', t.tzinfo)"
   ]
  },
  {
   "cell_type": "markdown",
   "metadata": {},
   "source": [
    "<a id = \"date\"></a>\n",
    "\n",
    "### <span style=\"color:#0b486b\">3.2 Date</span>\n",
    "\n",
    "Calendar date values are represented with the date class. Instances have attributes for year, month, and day."
   ]
  },
  {
   "cell_type": "code",
   "execution_count": 3,
   "metadata": {},
   "outputs": [
    {
     "output_type": "stream",
     "name": "stdout",
     "text": [
      "2021-06-08\nctime: Tue Jun  8 00:00:00 2021\ntuple: time.struct_time(tm_year=2021, tm_mon=6, tm_mday=8, tm_hour=0, tm_min=0, tm_sec=0, tm_wday=1, tm_yday=159, tm_isdst=-1)\nordinal: 737949\nYear: 2021\nMon : 6\nDay : 8\n"
     ]
    }
   ],
   "source": [
    "import datetime\n",
    "\n",
    "today = datetime.date.today()\n",
    "print (today)\n",
    "print ('ctime:', today.ctime())\n",
    "print ('tuple:', today.timetuple())\n",
    "print ('ordinal:', today.toordinal())\n",
    "print ('Year:', today.year)\n",
    "print ('Mon :', today.month)\n",
    "print ('Day :', today.day)"
   ]
  },
  {
   "cell_type": "markdown",
   "metadata": {},
   "source": [
    "A way to create new date instances is using the `replace()` method of an existing date. For example, you can change the year, leaving the day and month alone."
   ]
  },
  {
   "cell_type": "code",
   "execution_count": 4,
   "metadata": {},
   "outputs": [
    {
     "output_type": "stream",
     "name": "stdout",
     "text": [
      "d1: 2013-03-12\nd2: 2015-03-12\n"
     ]
    }
   ],
   "source": [
    "import datetime\n",
    "\n",
    "d1 = datetime.date(2013, 3, 12)\n",
    "print ('d1:', d1)\n",
    "\n",
    "d2 = d1.replace(year=2015)\n",
    "print ('d2:', d2)"
   ]
  },
  {
   "cell_type": "markdown",
   "metadata": {},
   "source": [
    "**Exercise4:**\n",
    "\n",
    "1. Write a piece of code that gives you the day of the week that you were born.\n",
    "2. How about thisn year? Do you know what day of the week is it?"
   ]
  },
  {
   "cell_type": "code",
   "execution_count": 23,
   "metadata": {},
   "outputs": [
    {
     "name": "stdout",
     "output_type": "stream",
     "text": [
      "Today is Monday\n",
      "I was born on Friday\n",
      "and my birthday this year is on a Saturday\n"
     ]
    }
   ],
   "source": [
    "# your coede here\n",
    "day_of_week = {0 : 'Monday',\n",
    "              1: 'Tuesday',\n",
    "              2: 'Wednesday',\n",
    "              3: 'Thursday',\n",
    "              4: 'Friday',\n",
    "              5: 'Saturday',\n",
    "              6: 'Sunday'}\n",
    "# you could also use a list to store the days o the week\n",
    "# and it would work just fine.\n",
    "# days_of_week = ['Mon', 'Tue', 'Wed', 'Thu', 'Fri', 'Sat', 'Sun']\n",
    "\n",
    "print ('Today is', day_of_week[datetime.date.today().weekday()])\n",
    "\n",
    "my_birthdate = datetime.date(1980,10,10)\n",
    "print ('I was born on', day_of_week[my_birthdate.weekday()])\n",
    "\n",
    "t2 = my_birthdate.replace(year=2015)\n",
    "print ('and my birthday this year is on a', day_of_week[t2.weekday()])"
   ]
  },
  {
   "cell_type": "markdown",
   "metadata": {},
   "source": [
    "<a id = \"timedelta\"></a>\n",
    "\n",
    "### <span style=\"color:#0b486b\">3.3 timedelta</span>\n",
    "\n",
    "Using `replace()` is not the only way to calculate future/past dates. You can use datetime to perform basic arithmetic on date values via the timedelta class. "
   ]
  },
  {
   "cell_type": "code",
   "execution_count": 21,
   "metadata": {},
   "outputs": [
    {
     "output_type": "stream",
     "name": "stdout",
     "text": [
      "2021-06-08\n2021-06-07\n"
     ]
    }
   ],
   "source": [
    "today = datetime.date.today()\n",
    "print (today)\n",
    "\n",
    "tomorrow = today + datetime.timedelta(days=-1)\n",
    "print (tomorrow)"
   ]
  },
  {
   "cell_type": "markdown",
   "metadata": {},
   "source": [
    "**Exercise5:**\n",
    "\n",
    "Rewrite exercise4 with timedelta."
   ]
  },
  {
   "cell_type": "code",
   "execution_count": null,
   "metadata": {
    "collapsed": true
   },
   "outputs": [],
   "source": [
    "# your code here"
   ]
  },
  {
   "cell_type": "markdown",
   "metadata": {},
   "source": [
    "You can use comparison operators for datetime objects too. It makes sense right?"
   ]
  },
  {
   "cell_type": "code",
   "execution_count": 29,
   "metadata": {},
   "outputs": [
    {
     "data": {
      "text/plain": [
       "True"
      ]
     },
     "execution_count": 29,
     "metadata": {},
     "output_type": "execute_result"
    }
   ],
   "source": [
    "tomorrow > today"
   ]
  },
  {
   "cell_type": "markdown",
   "metadata": {},
   "source": [
    "<a id = \"parsing\"></a>\n",
    "\n",
    "### <span style=\"color:#0b486b\">3.4 Formatting and Parsing</span>\n",
    "\n",
    "The default string representation of a datetime object uses the ISO 8601 format (YYYY-MM-DDTHH:MM:SS.mmmmmm). Alternate formats can be generated using `strftime()`. Similarly, if your input data includes timestamp values parsable with `time.strptime()`, then `datetime.strptime()` is a convenient way to convert them to datetime instances."
   ]
  },
  {
   "cell_type": "code",
   "execution_count": 31,
   "metadata": {},
   "outputs": [
    {
     "name": "stdout",
     "output_type": "stream",
     "text": [
      "ISO : 2020-09-14 17:27:15.387071\n"
     ]
    }
   ],
   "source": [
    "today = datetime.datetime.today()\n",
    "print ('ISO :', today)"
   ]
  },
  {
   "cell_type": "markdown",
   "metadata": {},
   "source": [
    "string from datetime object"
   ]
  },
  {
   "cell_type": "code",
   "execution_count": 26,
   "metadata": {},
   "outputs": [
    {
     "output_type": "stream",
     "name": "stdout",
     "text": [
      "strftime: Tue Jun 08 00:00:00 2021\n<class 'str'>\n"
     ]
    }
   ],
   "source": [
    "str_format = \"%a %b %d %H:%M:%S %Y\"\n",
    "s = today.strftime(str_format)\n",
    "print ('strftime:', s)\n",
    "print(type(s))"
   ]
  },
  {
   "cell_type": "markdown",
   "metadata": {},
   "source": [
    "datetime object from string"
   ]
  },
  {
   "cell_type": "code",
   "execution_count": 25,
   "metadata": {},
   "outputs": [
    {
     "output_type": "stream",
     "name": "stdout",
     "text": [
      "Tue Jun 08 00:00:00 2021\n2021-06-08 00:00:00\n<class 'datetime.datetime'>\nstrptime: Tue Jun 08 00:00:00 2021\n<class 'str'>\n"
     ]
    }
   ],
   "source": [
    "print (s)\n",
    "\n",
    "d = datetime.datetime.strptime(s, str_format)\n",
    "print (d)\n",
    "print(type(d))\n",
    "print ('strptime:', d.strftime(str_format))\n",
    "print(type(d.strftime(str_format)))"
   ]
  },
  {
   "cell_type": "code",
   "execution_count": 35,
   "metadata": {},
   "outputs": [
    {
     "name": "stdout",
     "output_type": "stream",
     "text": [
      "2017-07-03 00:00:00\n"
     ]
    }
   ],
   "source": [
    "s = \"07/03/2017\"\n",
    "str_format = \"%m/%d/%Y\"\n",
    "\n",
    "d = datetime.datetime.strptime(s, str_format)\n",
    "print (d)"
   ]
  },
  {
   "cell_type": "markdown",
   "metadata": {},
   "source": [
    "**Exercise6:**\n",
    "\n",
    "You have a string as \"7/30/2017 - 12:13\". How do you convert it into a datetime object?"
   ]
  },
  {
   "cell_type": "code",
   "execution_count": 33,
   "metadata": {},
   "outputs": [
    {
     "output_type": "stream",
     "name": "stdout",
     "text": [
      "2017-07-30 12:13:00\n07/30/2017 - 12:13\n<class 'str'>\n"
     ]
    }
   ],
   "source": [
    "s = \"7/30/2017 - 12:13\"\n",
    "str_format = \"%m/%d/%Y - %H:%M\"\n",
    "d = datetime.datetime.strptime(s, str_format)\n",
    "print(d)\n",
    "str_d = d.strftime(str_format)\n",
    "print(str_d)\n",
    "print(type(str_d))\n"
   ]
  },
  {
   "cell_type": "code",
   "execution_count": 39,
   "metadata": {},
   "outputs": [
    {
     "name": "stdout",
     "output_type": "stream",
     "text": [
      "2017-07-30 12:13:00\n"
     ]
    }
   ],
   "source": [
    "# your code here\n",
    "s = '7/30/2017 - 12:13'\n",
    "str_format = \"%m/%d/%Y - %H:%M\"\n",
    "t = datetime.datetime.strptime(s,str_format)\n",
    "print (t)"
   ]
  },
  {
   "cell_type": "markdown",
   "metadata": {},
   "source": [
    "---\n",
    "## <span style=\"color:#0b486b\">4. Twitter Data and Visualization</span>\n",
    "\n",
    "To work with Twitter API, we use a package called `TwitterAPI`. You can install it by executing the cell below if you don't have it on your machine."
   ]
  },
  {
   "cell_type": "code",
   "execution_count": 34,
   "metadata": {},
   "outputs": [
    {
     "output_type": "stream",
     "name": "stdout",
     "text": [
      "Collecting TwitterAPI\n",
      "  Downloading TwitterAPI-2.7.3.tar.gz (11 kB)\n",
      "Collecting requests\n",
      "  Downloading requests-2.25.1-py2.py3-none-any.whl (61 kB)\n",
      "\u001b[K     |████████████████████████████████| 61 kB 6.5 MB/s \n",
      "\u001b[?25hCollecting requests_oauthlib\n",
      "  Downloading requests_oauthlib-1.3.0-py2.py3-none-any.whl (23 kB)\n",
      "Collecting idna<3,>=2.5\n",
      "  Downloading idna-2.10-py2.py3-none-any.whl (58 kB)\n",
      "\u001b[K     |████████████████████████████████| 58 kB 6.5 MB/s \n",
      "\u001b[?25hCollecting urllib3<1.27,>=1.21.1\n",
      "  Downloading urllib3-1.26.5-py2.py3-none-any.whl (138 kB)\n",
      "\u001b[K     |████████████████████████████████| 138 kB 7.0 MB/s \n",
      "\u001b[?25hCollecting certifi>=2017.4.17\n",
      "  Downloading certifi-2021.5.30-py2.py3-none-any.whl (145 kB)\n",
      "\u001b[K     |████████████████████████████████| 145 kB 6.3 MB/s \n",
      "\u001b[?25hCollecting chardet<5,>=3.0.2\n",
      "  Downloading chardet-4.0.0-py2.py3-none-any.whl (178 kB)\n",
      "\u001b[K     |████████████████████████████████| 178 kB 6.3 MB/s \n",
      "\u001b[?25hCollecting oauthlib>=3.0.0\n",
      "  Downloading oauthlib-3.1.1-py2.py3-none-any.whl (146 kB)\n",
      "\u001b[K     |████████████████████████████████| 146 kB 7.5 MB/s \n",
      "\u001b[?25hBuilding wheels for collected packages: TwitterAPI\n",
      "  Building wheel for TwitterAPI (setup.py) ... \u001b[?25ldone\n",
      "\u001b[?25h  Created wheel for TwitterAPI: filename=TwitterAPI-2.7.3-py3-none-any.whl size=13596 sha256=5c39d889275c9169ff4b509cefc32c924141d7115e5d36c3d235dd1e7f90cb2e\n",
      "  Stored in directory: /Users/wuyoscar/Library/Caches/pip/wheels/69/ce/59/706d810eaf1b6f27492aa505236d9bb2e35303c87e4ae9ade0\n",
      "Successfully built TwitterAPI\n",
      "Installing collected packages: urllib3, idna, chardet, certifi, requests, oauthlib, requests-oauthlib, TwitterAPI\n",
      "Successfully installed TwitterAPI-2.7.3 certifi-2021.5.30 chardet-4.0.0 idna-2.10 oauthlib-3.1.1 requests-2.25.1 requests-oauthlib-1.3.0 urllib3-1.26.5\n"
     ]
    }
   ],
   "source": [
    "!pip install -U -I TwitterAPI"
   ]
  },
  {
   "cell_type": "markdown",
   "metadata": {},
   "source": [
    "To be able to collect data from the Twitter API you need an Access token and secret. For now we have provided you with them, but to obtain yours you can go to https://apps.twitter.com/, click on 'Create New App', fill the form and then click on 'Create your Twitter Application'."
   ]
  },
  {
   "cell_type": "code",
   "execution_count": 35,
   "metadata": {},
   "outputs": [
    {
     "output_type": "stream",
     "name": "stdout",
     "text": [
      "Requirement already satisfied: TwitterAPI in /Users/wuyoscar/opt/miniconda3/envs/pyspark/lib/python3.8/site-packages (2.7.3)\n",
      "Requirement already satisfied: requests-oauthlib in /Users/wuyoscar/opt/miniconda3/envs/pyspark/lib/python3.8/site-packages (from TwitterAPI) (1.3.0)\n",
      "Requirement already satisfied: requests in /Users/wuyoscar/opt/miniconda3/envs/pyspark/lib/python3.8/site-packages (from TwitterAPI) (2.25.1)\n",
      "Requirement already satisfied: certifi>=2017.4.17 in /Users/wuyoscar/opt/miniconda3/envs/pyspark/lib/python3.8/site-packages (from requests->TwitterAPI) (2021.5.30)\n",
      "Requirement already satisfied: chardet<5,>=3.0.2 in /Users/wuyoscar/opt/miniconda3/envs/pyspark/lib/python3.8/site-packages (from requests->TwitterAPI) (4.0.0)\n",
      "Requirement already satisfied: urllib3<1.27,>=1.21.1 in /Users/wuyoscar/opt/miniconda3/envs/pyspark/lib/python3.8/site-packages (from requests->TwitterAPI) (1.26.5)\n",
      "Requirement already satisfied: idna<3,>=2.5 in /Users/wuyoscar/opt/miniconda3/envs/pyspark/lib/python3.8/site-packages (from requests->TwitterAPI) (2.10)\n",
      "Requirement already satisfied: oauthlib>=3.0.0 in /Users/wuyoscar/opt/miniconda3/envs/pyspark/lib/python3.8/site-packages (from requests-oauthlib->TwitterAPI) (3.1.1)\n"
     ]
    }
   ],
   "source": [
    "!pip install TwitterAPI\n",
    "from TwitterAPI import TwitterAPI"
   ]
  },
  {
   "cell_type": "code",
   "execution_count": 36,
   "metadata": {},
   "outputs": [],
   "source": [
    "from TwitterAPI import TwitterAPI\n",
    "\n",
    "CONSUMER_KEY = \"YOUR-KEY-HERE\"\n",
    "CONSUMER_SECRET = \"YOUR-SECRETE-HERE\"\n",
    "OAUTH_TOKEN = \"YOUR-TOKEN-HERE\"\n",
    "OAUTH_TOKEN_SECRET = \"YOUR-TOKEN-SECRETE-HERE\"\n",
    "\n",
    "# Authonticating with your application credentials\n",
    "api = TwitterAPI(CONSUMER_KEY,\n",
    "                 CONSUMER_SECRET,\n",
    "                 OAUTH_TOKEN,\n",
    "                 OAUTH_TOKEN_SECRET)"
   ]
  },
  {
   "cell_type": "markdown",
   "metadata": {},
   "source": [
    "Now we have access to API. For a complete reference on what the API offers look at the [Twitter API documentation](https://dev.twitter.com/overview/api). For example we can search for tweets that contain a specific keyword or collect tweets from the Twitter stream. Twitter responses are in JSON format which we can easily parse into Python dictionary object.\n",
    "\n",
    "<a id = \"tweeter\"></a>\n",
    "### <span style=\"color:#0b486b\">4.1 Search Tweets</span>\n",
    "\n",
    "You can query Twitter with a keyword:"
   ]
  },
  {
   "cell_type": "code",
   "execution_count": 37,
   "metadata": {},
   "outputs": [],
   "source": [
    "resp = api.request('search/tweets', {'q':'deakin'})"
   ]
  },
  {
   "cell_type": "code",
   "execution_count": 38,
   "metadata": {},
   "outputs": [
    {
     "output_type": "execute_result",
     "data": {
      "text/plain": [
       "<TwitterAPI.TwitterAPI.TwitterResponse at 0x7fa560d36ac0>"
      ]
     },
     "metadata": {},
     "execution_count": 38
    }
   ],
   "source": [
    "resp"
   ]
  },
  {
   "cell_type": "markdown",
   "metadata": {},
   "source": [
    "Iterate over the reponse to print the Twitter message:"
   ]
  },
  {
   "cell_type": "code",
   "execution_count": 39,
   "metadata": {},
   "outputs": [
    {
     "output_type": "error",
     "ename": "TwitterRequestError",
     "evalue": "('{\"errors\":[{\"code\":89,\"message\":\"Invalid or expired token.\"}]}',) (401): {\"errors\":[{\"code\":89,\"message\":\"Invalid or expired token.\"}]}",
     "traceback": [
      "\u001b[0;31m---------------------------------------------------------------------------\u001b[0m",
      "\u001b[0;31mTwitterRequestError\u001b[0m                       Traceback (most recent call last)",
      "\u001b[0;32m<ipython-input-39-434d97e0bf85>\u001b[0m in \u001b[0;36m<module>\u001b[0;34m\u001b[0m\n\u001b[0;32m----> 1\u001b[0;31m \u001b[0;32mfor\u001b[0m \u001b[0mr\u001b[0m \u001b[0;32min\u001b[0m \u001b[0mresp\u001b[0m\u001b[0;34m:\u001b[0m\u001b[0;34m\u001b[0m\u001b[0;34m\u001b[0m\u001b[0m\n\u001b[0m\u001b[1;32m      2\u001b[0m     \u001b[0mprint\u001b[0m \u001b[0;34m(\u001b[0m\u001b[0mr\u001b[0m\u001b[0;34m[\u001b[0m\u001b[0;34m'text'\u001b[0m\u001b[0;34m]\u001b[0m\u001b[0;34m)\u001b[0m\u001b[0;34m\u001b[0m\u001b[0;34m\u001b[0m\u001b[0m\n",
      "\u001b[0;32m~/opt/miniconda3/envs/pyspark/lib/python3.8/site-packages/TwitterAPI/TwitterAPI.py\u001b[0m in \u001b[0;36m__iter__\u001b[0;34m(self)\u001b[0m\n\u001b[1;32m    280\u001b[0m         \u001b[0;34m:\u001b[0m\u001b[0mraises\u001b[0m\u001b[0;34m:\u001b[0m \u001b[0mTwitterConnectionError\u001b[0m\u001b[0;34m,\u001b[0m \u001b[0mTwitterRequestError\u001b[0m\u001b[0;34m\u001b[0m\u001b[0;34m\u001b[0m\u001b[0m\n\u001b[1;32m    281\u001b[0m         \"\"\"\n\u001b[0;32m--> 282\u001b[0;31m         \u001b[0;32mreturn\u001b[0m \u001b[0mself\u001b[0m\u001b[0;34m.\u001b[0m\u001b[0mget_iterator\u001b[0m\u001b[0;34m(\u001b[0m\u001b[0;34m)\u001b[0m\u001b[0;34m\u001b[0m\u001b[0;34m\u001b[0m\u001b[0m\n\u001b[0m\u001b[1;32m    283\u001b[0m \u001b[0;34m\u001b[0m\u001b[0m\n\u001b[1;32m    284\u001b[0m     \u001b[0;32mdef\u001b[0m \u001b[0mget_quota\u001b[0m\u001b[0;34m(\u001b[0m\u001b[0mself\u001b[0m\u001b[0;34m)\u001b[0m\u001b[0;34m:\u001b[0m\u001b[0;34m\u001b[0m\u001b[0;34m\u001b[0m\u001b[0m\n",
      "\u001b[0;32m~/opt/miniconda3/envs/pyspark/lib/python3.8/site-packages/TwitterAPI/TwitterAPI.py\u001b[0m in \u001b[0;36mget_iterator\u001b[0;34m(self)\u001b[0m\n\u001b[1;32m    267\u001b[0m         \"\"\"\n\u001b[1;32m    268\u001b[0m         \u001b[0;32mif\u001b[0m \u001b[0mself\u001b[0m\u001b[0;34m.\u001b[0m\u001b[0mresponse\u001b[0m\u001b[0;34m.\u001b[0m\u001b[0mstatus_code\u001b[0m \u001b[0;34m!=\u001b[0m \u001b[0;36m200\u001b[0m\u001b[0;34m:\u001b[0m\u001b[0;34m\u001b[0m\u001b[0;34m\u001b[0m\u001b[0m\n\u001b[0;32m--> 269\u001b[0;31m             \u001b[0;32mraise\u001b[0m \u001b[0mTwitterRequestError\u001b[0m\u001b[0;34m(\u001b[0m\u001b[0mself\u001b[0m\u001b[0;34m.\u001b[0m\u001b[0mresponse\u001b[0m\u001b[0;34m.\u001b[0m\u001b[0mstatus_code\u001b[0m\u001b[0;34m,\u001b[0m \u001b[0mmsg\u001b[0m\u001b[0;34m=\u001b[0m\u001b[0mself\u001b[0m\u001b[0;34m.\u001b[0m\u001b[0mresponse\u001b[0m\u001b[0;34m.\u001b[0m\u001b[0mtext\u001b[0m\u001b[0;34m)\u001b[0m\u001b[0;34m\u001b[0m\u001b[0;34m\u001b[0m\u001b[0m\n\u001b[0m\u001b[1;32m    270\u001b[0m \u001b[0;34m\u001b[0m\u001b[0m\n\u001b[1;32m    271\u001b[0m         \u001b[0;32mif\u001b[0m \u001b[0mself\u001b[0m\u001b[0;34m.\u001b[0m\u001b[0moptions\u001b[0m\u001b[0;34m[\u001b[0m\u001b[0;34m'is_stream'\u001b[0m\u001b[0;34m]\u001b[0m\u001b[0;34m:\u001b[0m\u001b[0;34m\u001b[0m\u001b[0;34m\u001b[0m\u001b[0m\n",
      "\u001b[0;31mTwitterRequestError\u001b[0m: ('{\"errors\":[{\"code\":89,\"message\":\"Invalid or expired token.\"}]}',) (401): {\"errors\":[{\"code\":89,\"message\":\"Invalid or expired token.\"}]}"
     ]
    }
   ],
   "source": [
    "for r in resp:\n",
    "    print (r['text'])"
   ]
  },
  {
   "cell_type": "markdown",
   "metadata": {},
   "source": [
    "**Exercise7:**\n",
    "\n",
    "1. Select a keyword and crawl some tweets from Twitter containing that keyword and then print them.\n",
    "2. Crawl 100 tweets containing this keyword and print them. Maybe you want to check Twitter API documentation first."
   ]
  },
  {
   "cell_type": "code",
   "execution_count": null,
   "metadata": {
    "collapsed": true
   },
   "outputs": [],
   "source": [
    "# code here"
   ]
  },
  {
   "cell_type": "markdown",
   "metadata": {},
   "source": [
    "There are other parameters that you can set to restrict the response. For example the language of the tweets, or geographical location."
   ]
  },
  {
   "cell_type": "code",
   "execution_count": null,
   "metadata": {},
   "outputs": [],
   "source": [
    "# result_type: popular, recent, mixed\n",
    "# geocode: lat,long,radius\n",
    "\n",
    "# geo coordinations of the desired place\n",
    "my_lat = 51.5;\n",
    "my_long = 0.12;\n",
    "\n",
    "resp = api.request('search/tweets', {'q':'house', \n",
    "                                     'count':'100', \n",
    "                                     'lang':'en', \n",
    "                                     'result_type':'recent',\n",
    "                                     'geocode':'{},{},100mi'.format(my_lat, my_long)})\n",
    "for r in resp:\n",
    "    print r['text']"
   ]
  },
  {
   "cell_type": "markdown",
   "metadata": {},
   "source": [
    "**Exercise8:**\n",
    "\n",
    "check out the API documentation and narrow down your search results for Exercise1 using parameters other that keyword."
   ]
  },
  {
   "cell_type": "code",
   "execution_count": null,
   "metadata": {
    "collapsed": true
   },
   "outputs": [],
   "source": [
    "# code here"
   ]
  },
  {
   "cell_type": "markdown",
   "metadata": {},
   "source": [
    "Apart from the tweet text, you can retrieve other metadata from the Twitter response. For example the user who sent the tweet, whether the tweet is in reply to another user or is a retweet, how many times it is retweeted and so on. Since the response is parsed into a dictionary, use `keys()` function to see the fields that are available:"
   ]
  },
  {
   "cell_type": "code",
   "execution_count": null,
   "metadata": {},
   "outputs": [],
   "source": [
    "response = resp.json()"
   ]
  },
  {
   "cell_type": "code",
   "execution_count": null,
   "metadata": {},
   "outputs": [],
   "source": [
    "response['statuses'][0]['user']"
   ]
  },
  {
   "cell_type": "code",
   "execution_count": null,
   "metadata": {},
   "outputs": [],
   "source": [
    "response['statuses'][0].keys()"
   ]
  },
  {
   "cell_type": "markdown",
   "metadata": {},
   "source": [
    "**Exercise9:**\n",
    "\n",
    "print user, place, and geo locations of tweets you have collected."
   ]
  },
  {
   "cell_type": "code",
   "execution_count": null,
   "metadata": {
    "collapsed": true
   },
   "outputs": [],
   "source": [
    "# Put your code here"
   ]
  },
  {
   "cell_type": "markdown",
   "metadata": {},
   "source": [
    "<a id = \"geo\"></a>\n",
    "### <span style=\"color:#0b486b\">4.2 Geo-Visualization</span>\n",
    "\n",
    "\n",
    "By now you should be aware of the concept of geo-tagged data. Data such as photos that you take with your cell phone (assuming the GPS and geo-tagging on your phone is activated), tweets that you send, and etc. In this section we intend to visualize geographical information. We will use JavaScript and Google Maps API to show them as points on a map. First we need some geo-tagged data. Let's use those crawled tweets."
   ]
  },
  {
   "cell_type": "markdown",
   "metadata": {},
   "source": [
    "Although we have specified the geo-location in our Twitter query, not all the tweets in `response object` actually are geo-tagged. We remove them and keep, username, tweet message, and lat-long of the tweet."
   ]
  },
  {
   "cell_type": "code",
   "execution_count": 10,
   "metadata": {},
   "outputs": [
    {
     "ename": "NameError",
     "evalue": "name 'resp' is not defined",
     "output_type": "error",
     "traceback": [
      "\u001b[1;31m---------------------------------------------------------------------------\u001b[0m",
      "\u001b[1;31mNameError\u001b[0m                                 Traceback (most recent call last)",
      "\u001b[1;32m<ipython-input-10-e5929f0d9b7f>\u001b[0m in \u001b[0;36m<module>\u001b[1;34m\u001b[0m\n\u001b[0;32m      1\u001b[0m \u001b[0mclean_data\u001b[0m \u001b[1;33m=\u001b[0m \u001b[1;33m[\u001b[0m\u001b[1;33m]\u001b[0m\u001b[1;33m\u001b[0m\u001b[0m\n\u001b[0;32m      2\u001b[0m \u001b[1;33m\u001b[0m\u001b[0m\n\u001b[1;32m----> 3\u001b[1;33m \u001b[1;32mfor\u001b[0m \u001b[0mr\u001b[0m \u001b[1;32min\u001b[0m \u001b[0mresp\u001b[0m\u001b[1;33m:\u001b[0m\u001b[1;33m\u001b[0m\u001b[0m\n\u001b[0m\u001b[0;32m      4\u001b[0m     \u001b[0mdata\u001b[0m \u001b[1;33m=\u001b[0m \u001b[1;33m[\u001b[0m\u001b[1;33m]\u001b[0m\u001b[1;33m\u001b[0m\u001b[0m\n\u001b[0;32m      5\u001b[0m     \u001b[1;32mtry\u001b[0m\u001b[1;33m:\u001b[0m\u001b[1;33m\u001b[0m\u001b[0m\n",
      "\u001b[1;31mNameError\u001b[0m: name 'resp' is not defined"
     ]
    }
   ],
   "source": [
    "clean_data = []\n",
    "\n",
    "for r in resp:\n",
    "    data = []\n",
    "    try:\n",
    "        user_name = r['user']['name'].encode('ascii', 'ignore')    # username\n",
    "        tweet_text = r['text'].encode('ascii', 'ignore')            # tweet message\n",
    "        data.append(\"{}: {}\".format(user_name, tweet_text))\n",
    "        data.append(r['geo']['coordinates'][0])    # lat\n",
    "        data.append(r['geo']['coordinates'][1])    # long\n",
    "        clean_data.append(data)\n",
    "    except TypeError as e:\n",
    "        print (\"lat, long not availabe. \")"
   ]
  },
  {
   "cell_type": "code",
   "execution_count": null,
   "metadata": {},
   "outputs": [],
   "source": [
    "clean_data"
   ]
  },
  {
   "cell_type": "markdown",
   "metadata": {},
   "source": [
    "Now our data is ready for visualization."
   ]
  },
  {
   "cell_type": "markdown",
   "metadata": {},
   "source": [
    "#### <span style=\"color:#0b486b\">4.2.1 magic functions</span> \n",
    "\n",
    "\n",
    "Before we move on it is better to introduce `magic` functions. IPython magic functions allow you to control the behaviour of the IPython itself and a lot of system features. Any line whose first character is % is considered to be a magic function."
   ]
  },
  {
   "cell_type": "code",
   "execution_count": 11,
   "metadata": {},
   "outputs": [
    {
     "name": "stdout",
     "output_type": "stream",
     "text": [
      "C:\\Users\\123\n"
     ]
    }
   ],
   "source": [
    "%cd"
   ]
  },
  {
   "cell_type": "code",
   "execution_count": 12,
   "metadata": {},
   "outputs": [
    {
     "name": "stdout",
     "output_type": "stream",
     "text": [
      "311 ns ± 6.67 ns per loop (mean ± std. dev. of 7 runs, 1000000 loops each)\n"
     ]
    }
   ],
   "source": [
    "%timeit x = range(1000)"
   ]
  },
  {
   "cell_type": "markdown",
   "metadata": {},
   "source": [
    "`magic` cell:"
   ]
  },
  {
   "cell_type": "code",
   "execution_count": 13,
   "metadata": {},
   "outputs": [
    {
     "data": {
      "application/javascript": [
       "\n",
       "alert(\"Hello World!\")\n"
      ],
      "text/plain": [
       "<IPython.core.display.Javascript object>"
      ]
     },
     "metadata": {},
     "output_type": "display_data"
    }
   ],
   "source": [
    "%%javascript\n",
    "\n",
    "alert(\"Hello World!\")"
   ]
  },
  {
   "cell_type": "markdown",
   "metadata": {},
   "source": [
    "#### <span style=\"color:#0b486b\">4.2.2 Using Google Maps API</span> "
   ]
  },
  {
   "cell_type": "markdown",
   "metadata": {},
   "source": [
    "\n",
    "`core.display` module offers top-level functions for displaying objects in different formats in Ipython Notebook. We use `HTML` and `Javascript` which create a HTML and JavaScript representation of the object respectively. Also note the double percentage sign (%%) at the beginning of cells. %% and the following term are called `magic functions` and cause the cell to behave differently. For example %%javascript at the beginning of a cell, runs the cell block of Javascript code."
   ]
  },
  {
   "cell_type": "code",
   "execution_count": 14,
   "metadata": {},
   "outputs": [],
   "source": [
    "from IPython.core.display import HTML, Javascript"
   ]
  },
  {
   "cell_type": "code",
   "execution_count": 15,
   "metadata": {},
   "outputs": [
    {
     "data": {
      "application/javascript": [
       "\n",
       "window.gmap_initialize = function() {};\n",
       "$.getScript('https://maps.googleapis.com/maps/api/js?v=3&sensor=false&callback=gmap_initialize');\n",
       "    "
      ],
      "text/plain": [
       "<IPython.core.display.Javascript object>"
      ]
     },
     "execution_count": 15,
     "metadata": {},
     "output_type": "execute_result"
    }
   ],
   "source": [
    "# load the Google Maps API library\n",
    "\n",
    "def gmap_init():\n",
    "    js = \"\"\"\n",
    "window.gmap_initialize = function() {};\n",
    "$.getScript('https://maps.googleapis.com/maps/api/js?v=3&sensor=false&callback=gmap_initialize');\n",
    "    \"\"\"\n",
    "    return Javascript(data=js)\n",
    "\n",
    "gmap_init()"
   ]
  },
  {
   "cell_type": "code",
   "execution_count": 16,
   "metadata": {},
   "outputs": [
    {
     "data": {
      "text/html": [
       "<style type=\"text/css\">\n",
       "  .map-canvas { height: 400px; }\n",
       "</style\n"
      ],
      "text/plain": [
       "<IPython.core.display.HTML object>"
      ]
     },
     "metadata": {},
     "output_type": "display_data"
    }
   ],
   "source": [
    "%%html\n",
    "<style type=\"text/css\">\n",
    "  .map-canvas { height: 400px; }\n",
    "</style"
   ]
  },
  {
   "cell_type": "code",
   "execution_count": 17,
   "metadata": {
    "scrolled": false
   },
   "outputs": [
    {
     "data": {
      "text/html": [
       "<div id=\"markers\" class=\"map-canvas\"/>\n"
      ],
      "text/plain": [
       "<IPython.core.display.HTML object>"
      ]
     },
     "metadata": {},
     "output_type": "display_data"
    }
   ],
   "source": [
    "%%html\n",
    "<div id=\"markers\" class=\"map-canvas\"/>"
   ]
  },
  {
   "cell_type": "code",
   "execution_count": 18,
   "metadata": {},
   "outputs": [],
   "source": [
    "def myfun(data, center_lat, center_long):\n",
    "    \n",
    "    js = \"var data = \" + str(data)\n",
    "    js += \"\"\"\n",
    "\n",
    "var map = new google.maps.Map(document.getElementById('markers'),\n",
    "                              {{zoom: 10,\n",
    "                               center: new google.maps.LatLng({}, {}),\n",
    "                               mapTypeId: google.maps.MapTypeId.ROADMAP\n",
    "                              }});\n",
    "\"\"\".format(center_lat, center_long)\n",
    "    js += \"\"\"                              \n",
    "\n",
    "var infowindow = new google.maps.InfoWindow();\n",
    "\n",
    "var i;\n",
    "for (i = 0; i < data.length; i++) {\n",
    "    var marker = new google.maps.Marker({\n",
    "        position: new google.maps.LatLng(data[i][1], data[i][2]),\n",
    "        map: map});\n",
    "\n",
    "    google.maps.event.addListener(marker, 'click', (function(marker, i) {\n",
    "        return function() {\n",
    "            infowindow.setContent(data[i][0]);\n",
    "            infowindow.open(map, marker);\n",
    "        }\n",
    "    })(marker, i));\n",
    "}\n",
    "\"\"\"\n",
    "    return Javascript(js)"
   ]
  },
  {
   "cell_type": "code",
   "execution_count": 19,
   "metadata": {},
   "outputs": [
    {
     "ename": "NameError",
     "evalue": "name 'my_lat' is not defined",
     "output_type": "error",
     "traceback": [
      "\u001b[1;31m---------------------------------------------------------------------------\u001b[0m",
      "\u001b[1;31mNameError\u001b[0m                                 Traceback (most recent call last)",
      "\u001b[1;32m<ipython-input-19-6c11fe4790d5>\u001b[0m in \u001b[0;36m<module>\u001b[1;34m\u001b[0m\n\u001b[1;32m----> 1\u001b[1;33m \u001b[0mmyfun\u001b[0m\u001b[1;33m(\u001b[0m\u001b[0mclean_data\u001b[0m\u001b[1;33m,\u001b[0m \u001b[0mmy_lat\u001b[0m\u001b[1;33m,\u001b[0m \u001b[0mmy_long\u001b[0m\u001b[1;33m)\u001b[0m\u001b[1;33m\u001b[0m\u001b[0m\n\u001b[0m",
      "\u001b[1;31mNameError\u001b[0m: name 'my_lat' is not defined"
     ]
    }
   ],
   "source": [
    "myfun(clean_data, my_lat, my_long)"
   ]
  },
  {
   "cell_type": "markdown",
   "metadata": {},
   "source": [
    "---\n",
    "## <span style=\"color:#0b486b\">5. Numpy module</span>\n"
   ]
  },
  {
   "cell_type": "markdown",
   "metadata": {},
   "source": [
    "Python lists are very flexible for storing any sequence of Python objects. But usually flexibility comes at the price of performance and therefore Python lists are not ideal for numerical calculations where we are interested in performance. Here is where **NumPy** comes in. It adds support for large, multi-dimensional arrays and matrices, along with high-level mathematical functions to operate on these arrays to Python. \n",
    "\n",
    "Relying on `'BLAS'` and `'LAPACK'`, `'NumPy'` gives a functionality comparable with `'MATLAB'` to Python. NumPy facilitates advanced mathematical and other types of operations on large numbers of data. Typically, such operations are executed more efficiently and with less code than is possible using Python’s built-in sequences. It has become one of the fundamental packages used for numerical computations.\n",
    "\n",
    "In this tutorial we will review its basics, so to learn more about NumPy, visit [NumPy User Guide](http://docs.scipy.org/doc/numpy/user/index.html)"
   ]
  },
  {
   "cell_type": "markdown",
   "metadata": {},
   "source": [
    "<a id = \"importnp\"></a>\n",
    "\n",
    "### <span style=\"color:#0b486b\">5.1 Importing Numpy</span>"
   ]
  },
  {
   "cell_type": "markdown",
   "metadata": {},
   "source": [
    "As you have learnt in this session, first we have to import a package to be able to use it. NumPy is imported with:"
   ]
  },
  {
   "cell_type": "code",
   "execution_count": null,
   "metadata": {
    "collapsed": true
   },
   "outputs": [],
   "source": [
    "import numpy"
   ]
  },
  {
   "cell_type": "markdown",
   "metadata": {},
   "source": [
    "Although it is the convention to import it like with an alias:"
   ]
  },
  {
   "cell_type": "code",
   "execution_count": null,
   "metadata": {
    "collapsed": true
   },
   "outputs": [],
   "source": [
    "import numpy as np"
   ]
  },
  {
   "cell_type": "markdown",
   "metadata": {},
   "source": [
    "<a id = \"nparray\"></a>\n",
    "\n",
    "### <span style=\"color:#0b486b\">5.2 Numpy arrays</span>"
   ]
  },
  {
   "cell_type": "markdown",
   "metadata": {},
   "source": [
    "The core of NumPy is its arrays. You can create an array from a Python list or tuple using `'array'` function. They work similarly to lists apart from the fact that:\n",
    "\n",
    "* you can easily perform element-wise operation on them, and\n",
    "* unlike lists, they should be pre-allocated.\n",
    "\n",
    "The first point is ufrther explained in [Array operations section](03-prac3.ipynb#Array-operations). The second point means that you there is no equivalent to list append for arrays. The size of the arrays is known at the time it is defined."
   ]
  },
  {
   "cell_type": "markdown",
   "metadata": {},
   "source": [
    "#### <span style=\"color:#0b486b\">5.2.1 create an array from a list</span>"
   ]
  },
  {
   "cell_type": "code",
   "execution_count": 28,
   "metadata": {},
   "outputs": [],
   "source": [
    "import numpy as np\n",
    "x = [1, 7, 3, 4, 0, -5]\n"
   ]
  },
  {
   "cell_type": "code",
   "execution_count": 29,
   "metadata": {},
   "outputs": [
    {
     "name": "stdout",
     "output_type": "stream",
     "text": [
      "[ 1  7  3  4  0 -5]\n"
     ]
    }
   ],
   "source": [
    "y = np.array(x)\n",
    "type(y)\n",
    "print(y)"
   ]
  },
  {
   "cell_type": "markdown",
   "metadata": {},
   "source": [
    "#### <span style=\"color:#0b486b\">5.2.2 create an array using a range</span>"
   ]
  },
  {
   "cell_type": "code",
   "execution_count": 30,
   "metadata": {},
   "outputs": [
    {
     "data": {
      "text/plain": [
       "range(0, 5)"
      ]
     },
     "execution_count": 30,
     "metadata": {},
     "output_type": "execute_result"
    }
   ],
   "source": [
    "range(5)"
   ]
  },
  {
   "cell_type": "code",
   "execution_count": 32,
   "metadata": {},
   "outputs": [
    {
     "name": "stdout",
     "output_type": "stream",
     "text": [
      "[0 1 2 3 4]\n"
     ]
    }
   ],
   "source": [
    "print (np.array(range(5)))"
   ]
  },
  {
   "cell_type": "code",
   "execution_count": 33,
   "metadata": {},
   "outputs": [
    {
     "name": "stdout",
     "output_type": "stream",
     "text": [
      "[2.  2.2 2.4 2.6 2.8]\n"
     ]
    }
   ],
   "source": [
    "print (np.arange(2, 3, 0.2))   "
   ]
  },
  {
   "cell_type": "code",
   "execution_count": 36,
   "metadata": {},
   "outputs": [
    {
     "name": "stdout",
     "output_type": "stream",
     "text": [
      "[2.   2.25 2.5  2.75 3.  ]\n"
     ]
    }
   ],
   "source": [
    "print (np.linspace(2, 3, 5))    # returns numbers spaced evenly on a linear scale, both endspoints are included"
   ]
  },
  {
   "cell_type": "code",
   "execution_count": 37,
   "metadata": {},
   "outputs": [
    {
     "name": "stdout",
     "output_type": "stream",
     "text": [
      "[ 100.          177.827941    316.22776602  562.34132519 1000.        ]\n"
     ]
    }
   ],
   "source": [
    "print (np.logspace(2, 3, 5))    # returns numbers spaced evenly on a log scale"
   ]
  },
  {
   "cell_type": "markdown",
   "metadata": {},
   "source": [
    "**Note:** If you need any help on how to use a function or what it does, you can IPython help. Just add a question mark (?) at the end of the function and execute the cell:"
   ]
  },
  {
   "cell_type": "code",
   "execution_count": 38,
   "metadata": {},
   "outputs": [],
   "source": [
    "np.logspace?"
   ]
  },
  {
   "cell_type": "markdown",
   "metadata": {},
   "source": [
    "#### <span style=\"color:#0b486b\">5.2.3 create a prefilled array</span>"
   ]
  },
  {
   "cell_type": "code",
   "execution_count": 39,
   "metadata": {},
   "outputs": [
    {
     "name": "stdout",
     "output_type": "stream",
     "text": [
      "[0. 0. 0. 0. 0.]\n"
     ]
    }
   ],
   "source": [
    "print (np.zeros(5))"
   ]
  },
  {
   "cell_type": "code",
   "execution_count": 41,
   "metadata": {},
   "outputs": [
    {
     "name": "stdout",
     "output_type": "stream",
     "text": [
      "[1 1 1 1 1]\n"
     ]
    }
   ],
   "source": [
    "print (np.ones(5, dtype=int))    # you can specify the data type, default is float"
   ]
  },
  {
   "cell_type": "markdown",
   "metadata": {},
   "source": [
    "#### <span style=\"color:#0b486b\">5.2.4 `'mgrid'`</span>\n",
    "similar to meshgrid in MATLAB:"
   ]
  },
  {
   "cell_type": "code",
   "execution_count": 42,
   "metadata": {
    "scrolled": true
   },
   "outputs": [
    {
     "name": "stdout",
     "output_type": "stream",
     "text": [
      "[[0 0 0]\n",
      " [1 1 1]\n",
      " [2 2 2]\n",
      " [3 3 3]\n",
      " [4 4 4]]\n",
      "[[0 1 2]\n",
      " [0 1 2]\n",
      " [0 1 2]\n",
      " [0 1 2]\n",
      " [0 1 2]]\n"
     ]
    }
   ],
   "source": [
    "x, y = np.mgrid[0:5, 0:3]\n",
    "\n",
    "print (x)\n",
    "print (y)"
   ]
  },
  {
   "cell_type": "markdown",
   "metadata": {},
   "source": [
    "#### <span style=\"color:#0b486b\">5.2.5 array attributes</span>\n",
    "NumPy arrays have multiple attributes and methods. The cell below shows a few of them. You can press tab after typing the dot operator `'(.)'` to use IPython auto-complete and see the rest of them."
   ]
  },
  {
   "cell_type": "code",
   "execution_count": null,
   "metadata": {
    "collapsed": true
   },
   "outputs": [],
   "source": [
    "y = np.array([3, 0, -4, 6, 12, 2])"
   ]
  },
  {
   "cell_type": "code",
   "execution_count": 44,
   "metadata": {},
   "outputs": [
    {
     "name": "stdout",
     "output_type": "stream",
     "text": [
      "number of dimensions:\t 2\n",
      "dimension of the array: (5, 3)\n",
      "numerical data type:\t int32\n",
      "maximum of the array:\t 2\n",
      "index of the array max: 2\n",
      "mean of the array:\t 1.0\n"
     ]
    }
   ],
   "source": [
    "print (\"number of dimensions:\\t\", y.ndim       ) \n",
    "print (\"dimension of the array:\", y.shape   )    \n",
    "print (\"numerical data type:\\t\", y.dtype)\n",
    "print (\"maximum of the array:\\t\", y.max()  )     \n",
    "print (\"index of the array max:\", y.argmax() )   \n",
    "print (\"mean of the array:\\t\", y.mean()  )    "
   ]
  },
  {
   "cell_type": "markdown",
   "metadata": {},
   "source": [
    "#### <span style=\"color:#0b486b\">5.2.6 Multi-dimensional arrays</span>\n"
   ]
  },
  {
   "cell_type": "markdown",
   "metadata": {},
   "source": [
    "You can define arrays with 2 (or higher) dimensions in numpy:"
   ]
  },
  {
   "cell_type": "markdown",
   "metadata": {},
   "source": [
    "##### from lists"
   ]
  },
  {
   "cell_type": "code",
   "execution_count": 45,
   "metadata": {},
   "outputs": [
    {
     "name": "stdout",
     "output_type": "stream",
     "text": [
      "[[ 1  2 10 20]\n",
      " [ 3  4 30 40]]\n",
      "2 (2, 4)\n"
     ]
    }
   ],
   "source": [
    "x = [[1, 2, 10, 20], [3, 4, 30, 40]]\n",
    "y = np.array(x)\n",
    "print (y)\n",
    "\n",
    "print (y.ndim, y.shape)"
   ]
  },
  {
   "cell_type": "markdown",
   "metadata": {},
   "source": [
    "##### pre-filled "
   ]
  },
  {
   "cell_type": "code",
   "execution_count": 47,
   "metadata": {},
   "outputs": [],
   "source": [
    "x = np.ones((3, 5), dtype='int')"
   ]
  },
  {
   "cell_type": "code",
   "execution_count": 48,
   "metadata": {
    "scrolled": true
   },
   "outputs": [
    {
     "name": "stdout",
     "output_type": "stream",
     "text": [
      "[[1 1 1 1 1]\n",
      " [1 1 1 1 1]\n",
      " [1 1 1 1 1]]\n",
      "2 (3, 5)\n"
     ]
    }
   ],
   "source": [
    "print (x)\n",
    "print (x.ndim, x.shape)"
   ]
  },
  {
   "cell_type": "markdown",
   "metadata": {},
   "source": [
    "##### `'diag()'`\n",
    "diagonal matrix"
   ]
  },
  {
   "cell_type": "code",
   "execution_count": 49,
   "metadata": {},
   "outputs": [
    {
     "data": {
      "text/plain": [
       "array([[1, 0, 0],\n",
       "       [0, 2, 0],\n",
       "       [0, 0, 3]])"
      ]
     },
     "execution_count": 49,
     "metadata": {},
     "output_type": "execute_result"
    }
   ],
   "source": [
    "np.diag([1, 2, 3])"
   ]
  },
  {
   "cell_type": "markdown",
   "metadata": {},
   "source": [
    "<a id = \"maninp\"></a>\n",
    "\n",
    "### <span style=\"color:#0b486b\">5.3 Manipulating arrays</span>\n"
   ]
  },
  {
   "cell_type": "markdown",
   "metadata": {},
   "source": [
    "#### <span style=\"color:#0b486b\">5.3.1 Indexing</span>\n"
   ]
  },
  {
   "cell_type": "markdown",
   "metadata": {},
   "source": [
    "Similar to lists, you can index elements in an array using `'[]'` and indices:"
   ]
  },
  {
   "cell_type": "markdown",
   "metadata": {},
   "source": [
    "If `'x'` is a 1-dimensional array, `'x[i]'` will index `'ith'` element of `'x'`:"
   ]
  },
  {
   "cell_type": "code",
   "execution_count": 50,
   "metadata": {},
   "outputs": [
    {
     "name": "stdout",
     "output_type": "stream",
     "text": [
      "4\n"
     ]
    }
   ],
   "source": [
    "x = np.array([2, 8, -2, 4, 3])\n",
    "print (x[3])"
   ]
  },
  {
   "cell_type": "markdown",
   "metadata": {},
   "source": [
    "If 'x' is a 2-dimensional arrray:\n",
    "\n",
    "* '`x[i, j]'` or `'x[i][j]'` will index the element in `'ith'` row and `'jth'` column\n",
    "* '`x[i, :]'` will index the `'ith'` row \n",
    "* `'x[:, j]'` will index `'jth'` column"
   ]
  },
  {
   "cell_type": "code",
   "execution_count": null,
   "metadata": {},
   "outputs": [],
   "source": [
    "x = np.array([[7, 6, 8, 6, 4],\n",
    "              [4, 7, -2, 0, 9]])\n",
    "              \n",
    "print (x[1, 3])"
   ]
  },
  {
   "cell_type": "code",
   "execution_count": null,
   "metadata": {},
   "outputs": [],
   "source": [
    "print (x[1, :])      # or x[1]"
   ]
  },
  {
   "cell_type": "code",
   "execution_count": null,
   "metadata": {},
   "outputs": [],
   "source": [
    "print (x[:, 3])"
   ]
  },
  {
   "cell_type": "markdown",
   "metadata": {},
   "source": [
    "Arrays can also be indexed with other arrays:"
   ]
  },
  {
   "cell_type": "code",
   "execution_count": null,
   "metadata": {},
   "outputs": [],
   "source": [
    "x = np.array([2, 8, -2, 4, 3, 9, 0])\n",
    "\n",
    "idx1 = [1, 3, 4]        # list\n",
    "idx2 = np.array(idx1)   # array\n",
    "\n",
    "print (x[idx1], x[idx2])\n",
    "x[idx2] = 0\n",
    "print (x)"
   ]
  },
  {
   "cell_type": "markdown",
   "metadata": {},
   "source": [
    "You can also index masks. The index mask should be a NumPy arrays of data type Bool. Then the element of the array is selected only if the index mask at the position of the element is True."
   ]
  },
  {
   "cell_type": "code",
   "execution_count": 51,
   "metadata": {},
   "outputs": [],
   "source": [
    "x = np.array([2, 8, -2, 4, 3, 9, 0])"
   ]
  },
  {
   "cell_type": "code",
   "execution_count": 52,
   "metadata": {},
   "outputs": [],
   "source": [
    "mask = np.array([False, True, True, False, False, True, False])"
   ]
  },
  {
   "cell_type": "code",
   "execution_count": 53,
   "metadata": {},
   "outputs": [
    {
     "data": {
      "text/plain": [
       "array([ 8, -2,  9])"
      ]
     },
     "execution_count": 53,
     "metadata": {},
     "output_type": "execute_result"
    }
   ],
   "source": [
    "x[mask]"
   ]
  },
  {
   "cell_type": "markdown",
   "metadata": {},
   "source": [
    "Combining index masks with comparison operaors enabels you to conditinoally slecect elements of the array."
   ]
  },
  {
   "cell_type": "code",
   "execution_count": 54,
   "metadata": {},
   "outputs": [
    {
     "data": {
      "text/plain": [
       "array([2, 8, 4, 3])"
      ]
     },
     "execution_count": 54,
     "metadata": {},
     "output_type": "execute_result"
    }
   ],
   "source": [
    "x = np.array([2, 8, -2, 4, 3, 9, 0])\n",
    "mask = (x>=2) * (x<9)\n",
    "x[mask]"
   ]
  },
  {
   "cell_type": "markdown",
   "metadata": {},
   "source": [
    "#### <span style=\"color:#0b486b\">1.3.2 Slicing</span>\n"
   ]
  },
  {
   "cell_type": "markdown",
   "metadata": {},
   "source": [
    "Similar to Python lists, arrays can also be sliced:"
   ]
  },
  {
   "cell_type": "code",
   "execution_count": null,
   "metadata": {},
   "outputs": [],
   "source": [
    "x = np.array([2, 8, -2, 4, 3, 9, 0])\n",
    "\n",
    "print (x[3:])    # slicing\n",
    "print (x[3:7:2])  # slicing with a specified step"
   ]
  },
  {
   "cell_type": "code",
   "execution_count": null,
   "metadata": {},
   "outputs": [],
   "source": [
    "x = np.array([[7, 6, 8, 6, 4, 3],\n",
    "              [4, 7, 0, 5, 9, 5],\n",
    "              [7, 3, 6, 3, 5, 1]])\n",
    "              \n",
    "\n",
    "print (x[1, 1:4])\n",
    "print (x[:2, 1::2])    # rows zero up to 2, cols 1 up to end with a step=2"
   ]
  },
  {
   "cell_type": "markdown",
   "metadata": {},
   "source": [
    "#### <span style=\"color:#0b486b\">5.3.3 Iteration over items</span>\n"
   ]
  },
  {
   "cell_type": "markdown",
   "metadata": {},
   "source": [
    "Since most of NumPy functions are capable of operating on arrays, in many cases iteration over items of an arrays can be (and should be) avoided. Otherwise it is pretty much similar to iterating over values of a list:"
   ]
  },
  {
   "cell_type": "code",
   "execution_count": 55,
   "metadata": {},
   "outputs": [
    {
     "name": "stdout",
     "output_type": "stream",
     "text": [
      "[ 0  7 14 21 28 35 42 49]\n",
      "0\n",
      "7\n",
      "14\n",
      "21\n",
      "28\n",
      "35\n",
      "42\n",
      "49\n"
     ]
    }
   ],
   "source": [
    "a = np.arange(0, 50, 7)\n",
    "print (a)\n",
    "for item in a:\n",
    "    print (item,) "
   ]
  },
  {
   "cell_type": "markdown",
   "metadata": {},
   "source": [
    "Of course you could iterate over items using their indices too:"
   ]
  },
  {
   "cell_type": "code",
   "execution_count": 59,
   "metadata": {},
   "outputs": [
    {
     "ename": "TypeError",
     "evalue": "'int' object is not iterable",
     "output_type": "error",
     "traceback": [
      "\u001b[1;31m---------------------------------------------------------------------------\u001b[0m",
      "\u001b[1;31mTypeError\u001b[0m                                 Traceback (most recent call last)",
      "\u001b[1;32m<ipython-input-59-524090e9928c>\u001b[0m in \u001b[0;36m<module>\u001b[1;34m\u001b[0m\n\u001b[0;32m      1\u001b[0m \u001b[0ma\u001b[0m \u001b[1;33m=\u001b[0m \u001b[0mnp\u001b[0m\u001b[1;33m.\u001b[0m\u001b[0marange\u001b[0m\u001b[1;33m(\u001b[0m\u001b[1;36m0\u001b[0m\u001b[1;33m,\u001b[0m \u001b[1;36m50\u001b[0m\u001b[1;33m,\u001b[0m \u001b[1;36m7\u001b[0m\u001b[1;33m)\u001b[0m\u001b[1;33m\u001b[0m\u001b[0m\n\u001b[1;32m----> 2\u001b[1;33m \u001b[1;32mfor\u001b[0m \u001b[0mi\u001b[0m \u001b[1;32min\u001b[0m \u001b[0ma\u001b[0m\u001b[1;33m.\u001b[0m\u001b[0mshape\u001b[0m\u001b[1;33m[\u001b[0m\u001b[1;36m0\u001b[0m\u001b[1;33m]\u001b[0m\u001b[1;33m:\u001b[0m\u001b[1;33m\u001b[0m\u001b[0m\n\u001b[0m\u001b[0;32m      3\u001b[0m     \u001b[0mprint\u001b[0m \u001b[1;33m(\u001b[0m\u001b[0ma\u001b[0m\u001b[1;33m[\u001b[0m\u001b[0mi\u001b[0m\u001b[1;33m]\u001b[0m\u001b[1;33m)\u001b[0m\u001b[1;33m\u001b[0m\u001b[0m\n",
      "\u001b[1;31mTypeError\u001b[0m: 'int' object is not iterable"
     ]
    }
   ],
   "source": [
    "a = np.arange(0, 50, 7)\n",
    "for i in xrange(a.shape[0]):\n",
    "    print a[i],"
   ]
  },
  {
   "cell_type": "markdown",
   "metadata": {},
   "source": [
    "There are also many functions for manipulating arrays. The most used ones are:"
   ]
  },
  {
   "cell_type": "markdown",
   "metadata": {},
   "source": [
    "#### <span style=\"color:#0b486b\">5.3.4 `copy()`</span>\n"
   ]
  },
  {
   "cell_type": "markdown",
   "metadata": {},
   "source": [
    "**Remember** that assignment operator is not an equivalent for copying arrays. In fact Python does not pass the values. It passess the references."
   ]
  },
  {
   "cell_type": "code",
   "execution_count": 1,
   "metadata": {},
   "outputs": [
    {
     "name": "stdout",
     "output_type": "stream",
     "text": [
      "[1, 2, 3] [1, 2, 3]\n"
     ]
    }
   ],
   "source": [
    "x = [1, 2, 3]\n",
    "y = x\n",
    "print (x, y)"
   ]
  },
  {
   "cell_type": "code",
   "execution_count": 2,
   "metadata": {},
   "outputs": [
    {
     "name": "stdout",
     "output_type": "stream",
     "text": [
      "[0, 2, 3] [0, 2, 3]\n"
     ]
    }
   ],
   "source": [
    "y[0] = 0       # now we alter an element of y\n",
    "print (x, y)     # note that x has changed as well"
   ]
  },
  {
   "cell_type": "markdown",
   "metadata": {},
   "source": [
    "Same is true for numpy arrays. That's why if you need a copy of an array, you should use `'copy()'` function."
   ]
  },
  {
   "cell_type": "code",
   "execution_count": 6,
   "metadata": {},
   "outputs": [
    {
     "name": "stdout",
     "output_type": "stream",
     "text": [
      "[0 2 3] [0 2 3]\n"
     ]
    }
   ],
   "source": [
    "import numpy as np\n",
    "x = np.array([1, 2, 3])\n",
    "y = x\n",
    "\n",
    "y[0] = 0       # now we alter an element of y\n",
    "print (x, y)     # note that x has changed as well"
   ]
  },
  {
   "cell_type": "code",
   "execution_count": 7,
   "metadata": {},
   "outputs": [
    {
     "name": "stdout",
     "output_type": "stream",
     "text": [
      "[1 2 3] [0 2 3]\n"
     ]
    }
   ],
   "source": [
    "x = np.array([1, 2, 3])\n",
    "y = x.copy()  # or np.copy(x)\n",
    "y[0] = 0\n",
    "\n",
    "print (x, y)"
   ]
  },
  {
   "cell_type": "markdown",
   "metadata": {},
   "source": [
    "#### <span style=\"color:#0b486b\">5.3.5 `reshape()`</span>\n"
   ]
  },
  {
   "cell_type": "code",
   "execution_count": 8,
   "metadata": {},
   "outputs": [
    {
     "name": "stdout",
     "output_type": "stream",
     "text": [
      "[0 1 2 3 4 5]\n",
      "[[0 1 2]\n",
      " [3 4 5]]\n"
     ]
    }
   ],
   "source": [
    "x1 = np.arange(6)\n",
    "x2 = x1.reshape((2, 3))    # or np.reshape(x1, (2, 3))\n",
    "\n",
    "print (x1)\n",
    "print (x2)"
   ]
  },
  {
   "cell_type": "markdown",
   "metadata": {},
   "source": [
    "#### <span style=\"color:#0b486b\">5.3.6 `astype()`</span>\n"
   ]
  },
  {
   "cell_type": "markdown",
   "metadata": {},
   "source": [
    "Used for type casting:"
   ]
  },
  {
   "cell_type": "code",
   "execution_count": 9,
   "metadata": {},
   "outputs": [
    {
     "name": "stdout",
     "output_type": "stream",
     "text": [
      "<class 'numpy.ndarray'> [0 1 2 3 4]\n",
      "<class 'numpy.ndarray'> [0. 1. 2. 3. 4.]\n"
     ]
    }
   ],
   "source": [
    "x1 = np.arange(5)\n",
    "x2 = x1.astype(float)\n",
    "\n",
    "print (type(x1), x1)\n",
    "print (type(x2), x2)"
   ]
  },
  {
   "cell_type": "markdown",
   "metadata": {},
   "source": [
    "#### <span style=\"color:#0b486b\">5.3.7 `T`</span> "
   ]
  },
  {
   "cell_type": "markdown",
   "metadata": {},
   "source": [
    "transpose method:"
   ]
  },
  {
   "cell_type": "code",
   "execution_count": 10,
   "metadata": {},
   "outputs": [
    {
     "name": "stdout",
     "output_type": "stream",
     "text": [
      "[[4 2 2 0]\n",
      " [2 2 3 1]]\n",
      "[[4 2]\n",
      " [2 2]\n",
      " [2 3]\n",
      " [0 1]]\n"
     ]
    }
   ],
   "source": [
    "x1 = np.random.randint(5, size=(2, 4))\n",
    "x2 = x1.T\n",
    "\n",
    "print (x1)\n",
    "print (x2)"
   ]
  },
  {
   "cell_type": "markdown",
   "metadata": {},
   "source": [
    "<a id = \"arrayop\"></a>\n",
    "\n",
    "### <span style=\"color:#0b486b\">5.4 Array operations</span>\n"
   ]
  },
  {
   "cell_type": "markdown",
   "metadata": {},
   "source": [
    "#### <span style=\"color:#0b486b\">5.4.1 Arithmetic operators</span>\n"
   ]
  },
  {
   "cell_type": "markdown",
   "metadata": {},
   "source": [
    "Arrays can be added, subtracted, multiplied and divided using +, -, \\* and, /. Operations done by these operators are **element wise**."
   ]
  },
  {
   "cell_type": "markdown",
   "metadata": {},
   "source": [
    "x1 = np.array([[2, 3, 5, 7], \n",
    "               [2, 4, 6, 8]], dtype=float)\n",
    "x2 = np.array([[6, 5, 4, 3], \n",
    "               [9, 7, 5, 3]], dtype=float)\n",
    "\n",
    "print (x1)\n",
    "print (x2)"
   ]
  },
  {
   "cell_type": "markdown",
   "metadata": {},
   "source": [
    "print (x1 + x2)"
   ]
  },
  {
   "cell_type": "code",
   "execution_count": null,
   "metadata": {},
   "outputs": [],
   "source": [
    "print (x1 - x2)"
   ]
  },
  {
   "cell_type": "code",
   "execution_count": null,
   "metadata": {},
   "outputs": [],
   "source": [
    "print (x1 * x2)"
   ]
  },
  {
   "cell_type": "markdown",
   "metadata": {},
   "source": [
    "print (x1 / x2)"
   ]
  },
  {
   "cell_type": "markdown",
   "metadata": {},
   "source": [
    "print (3 + x1)"
   ]
  },
  {
   "cell_type": "markdown",
   "metadata": {},
   "source": [
    "print (3 * x1)"
   ]
  },
  {
   "cell_type": "code",
   "execution_count": null,
   "metadata": {},
   "outputs": [],
   "source": [
    "print (3 / x1)"
   ]
  },
  {
   "cell_type": "markdown",
   "metadata": {},
   "source": [
    "#### <span style=\"color:#0b486b\">5.4.2 Boolean operators</span>\n",
    "\n",
    "Much like arethmaic operators discussed above, boolean (comparison) operators perform element-wise on arrays."
   ]
  },
  {
   "cell_type": "code",
   "execution_count": 16,
   "metadata": {},
   "outputs": [
    {
     "name": "stdout",
     "output_type": "stream",
     "text": [
      "[False  True  True False] bool\n"
     ]
    }
   ],
   "source": [
    "x1 = np.array([2, 3, 5, 7])\n",
    "x2 = np.array([2, 4, 6, 7])\n",
    "y = x1<x2\n",
    "\n",
    "print (y, y.dtype)"
   ]
  },
  {
   "cell_type": "markdown",
   "metadata": {},
   "source": [
    "use methods `'.any()'` and `'.all()'` to return a single boolean value indicating whether any or all values in the array are True respectively. This value in turn can be used as a condition for an `'if'` statement."
   ]
  },
  {
   "cell_type": "code",
   "execution_count": 18,
   "metadata": {},
   "outputs": [
    {
     "name": "stdout",
     "output_type": "stream",
     "text": [
      "False\n",
      "True\n"
     ]
    }
   ],
   "source": [
    "print (y.all())\n",
    "print (y.any())"
   ]
  },
  {
   "cell_type": "markdown",
   "metadata": {},
   "source": [
    "NumPy has many other functions that you can read about them in [NumPy User Guide](http://docs.scipy.org/doc/numpy/user/). Specially read about:"
   ]
  },
  {
   "cell_type": "markdown",
   "metadata": {},
   "source": [
    "* `np.unique`, returns unique elements of an array\n",
    "* `np.flatten`, flattens a multi-dimensional array\n",
    "* `np.mean`, `np.std`, `np.median`\n",
    "* `np.min`, `np.max`, `np.argmin`, `np.argmax`"
   ]
  },
  {
   "cell_type": "markdown",
   "metadata": {},
   "source": [
    "<a id = \"random\"></a>\n",
    "\n",
    "### <span style=\"color:#0b486b\">5.5 np.random</span>\n"
   ]
  },
  {
   "cell_type": "markdown",
   "metadata": {},
   "source": [
    "NumPy has a module called `random` to generate arrays of random numbers. There are different ways to generate a random number:"
   ]
  },
  {
   "cell_type": "code",
   "execution_count": 21,
   "metadata": {},
   "outputs": [
    {
     "name": "stdout",
     "output_type": "stream",
     "text": [
      "0.6758946907775667\n"
     ]
    }
   ],
   "source": [
    "print (np.random.rand())"
   ]
  },
  {
   "cell_type": "code",
   "execution_count": 22,
   "metadata": {},
   "outputs": [
    {
     "name": "stdout",
     "output_type": "stream",
     "text": [
      "[[0.28207185 0.59700412 0.05126216 0.74208855 0.07656477]\n",
      " [0.54298673 0.94937807 0.89796575 0.22131977 0.53645373]]\n"
     ]
    }
   ],
   "source": [
    "# 2x5 random array drawn from standard normal distribution\n",
    "print (np.random.random([2, 5]))"
   ]
  },
  {
   "cell_type": "code",
   "execution_count": 23,
   "metadata": {},
   "outputs": [
    {
     "name": "stdout",
     "output_type": "stream",
     "text": [
      "[[0.85691314 0.65593359 0.88157789 0.49005632 0.93549197]\n",
      " [0.06360899 0.25935427 0.38882743 0.95819474 0.01255971]]\n"
     ]
    }
   ],
   "source": [
    "# 2x5 random array drawn from standard normal distribution\n",
    "print (np.random.rand(2, 5))"
   ]
  },
  {
   "cell_type": "code",
   "execution_count": 24,
   "metadata": {},
   "outputs": [
    {
     "name": "stdout",
     "output_type": "stream",
     "text": [
      "[[9 7 9 6 4]\n",
      " [8 4 3 1 1]]\n"
     ]
    }
   ],
   "source": [
    "# 2x5 random array drawn from a uniform distribution on {0, 1, 2, ..., 9}\n",
    "print (np.random.randint(10, size=[2, 5])) "
   ]
  },
  {
   "cell_type": "markdown",
   "metadata": {},
   "source": [
    "##### <span style=\"color:#0b486b\">5.5.1 Random seed</span>\n"
   ]
  },
  {
   "cell_type": "markdown",
   "metadata": {},
   "source": [
    "Random numbers generated by computers are not really random. They are called pseudo-random. Thus we can set the random generator to generate the same set of random numbers every time. This is useful while testing the code."
   ]
  },
  {
   "cell_type": "code",
   "execution_count": 25,
   "metadata": {},
   "outputs": [
    {
     "name": "stdout",
     "output_type": "stream",
     "text": [
      "0.5191515131627237\n",
      "0.5269976828610826\n",
      "0.5682519764633314\n",
      "0.48341667892519735\n",
      "0.4319301061510561\n"
     ]
    }
   ],
   "source": [
    "for i in range(5):\n",
    "    print (np.random.random())    "
   ]
  },
  {
   "cell_type": "code",
   "execution_count": 30,
   "metadata": {},
   "outputs": [
    {
     "name": "stdout",
     "output_type": "stream",
     "text": [
      "0.6535895854646095\n",
      "0.6535895854646095\n",
      "0.6535895854646095\n",
      "0.6535895854646095\n",
      "0.6535895854646095\n"
     ]
    }
   ],
   "source": [
    "for i in range(5):\n",
    "    np.random.seed(100)\n",
    "    print (np.random.random()) "
   ]
  },
  {
   "cell_type": "markdown",
   "metadata": {},
   "source": [
    "<a id = \"vecfunc\"></a>\n",
    "\n",
    "### <span style=\"color:#0b486b\">5.6 Vectorizing functions</span>\n"
   ]
  },
  {
   "cell_type": "markdown",
   "metadata": {},
   "source": [
    "As mentioned earlier in operators, to get a good performance you should avoid looping over elements in an array and use vectorized algorithms. Many methods and functions of NumPy already support vectors, so keep this in mind while writing your own code.\n",
    "\n",
    "But for now, suppose you have written a step function which does not work with arrays, as the cell below:"
   ]
  },
  {
   "cell_type": "markdown",
   "metadata": {
    "collapsed": true
   },
   "source": [
    "def step_func(x):\n",
    "    \"\"\"\n",
    "    scalar implementation of step function\n",
    "    \"\"\"\n",
    "    \n",
    "    if x>=0:\n",
    "        return 1\n",
    "    else:\n",
    "        return 0"
   ]
  },
  {
   "cell_type": "markdown",
   "metadata": {},
   "source": [
    "Obviously it fails when dealing with an array, because it expects a scalar as its input. Execute the cell below and see that it raises an error:"
   ]
  },
  {
   "cell_type": "code",
   "execution_count": null,
   "metadata": {},
   "outputs": [],
   "source": [
    "# since step_func expects a scalar and recieves an array instead, \n",
    "# it raises an error\n",
    "\n",
    "step_func(np.array([2, 7, -4, -9, 0, 4]))"
   ]
  },
  {
   "cell_type": "markdown",
   "metadata": {},
   "source": [
    "You can use the function `'np.vectorize()'` to obtain a vectorized version of `'step_func'` that can handle vector data:"
   ]
  },
  {
   "cell_type": "code",
   "execution_count": 34,
   "metadata": {},
   "outputs": [
    {
     "data": {
      "text/plain": [
       "array([1, 1, 0, 0, 1, 1])"
      ]
     },
     "execution_count": 34,
     "metadata": {},
     "output_type": "execute_result"
    }
   ],
   "source": [
    "step_func_vectorized = np.vectorize(step_func)\n",
    "step_func_vectorized(np.array([2, 7, -4, -9, 0, 4]))"
   ]
  },
  {
   "cell_type": "markdown",
   "metadata": {},
   "source": [
    "Although `'vectorize()'` can automatically derive a vectorized version of a scalar function, but it is always better to keep this in mind and write functions vector-compatilbe, from the beginning. For example we could write the step function as it is shown in the cell below, so it can handle scalar and vector data."
   ]
  },
  {
   "cell_type": "code",
   "execution_count": 35,
   "metadata": {},
   "outputs": [],
   "source": [
    "def step_func2(x):\n",
    "    \"\"\"\n",
    "    vector and scalar implementation of step function\n",
    "    \"\"\"\n",
    "    \n",
    "    return 1 * (x>=0)"
   ]
  },
  {
   "cell_type": "code",
   "execution_count": 36,
   "metadata": {},
   "outputs": [
    {
     "data": {
      "text/plain": [
       "array([1, 1, 0, 0, 1, 1])"
      ]
     },
     "execution_count": 36,
     "metadata": {},
     "output_type": "execute_result"
    }
   ],
   "source": [
    "step_func2(np.array([2, 7, -4, -9, 0, 4]))"
   ]
  },
  {
   "cell_type": "markdown",
   "metadata": {
    "collapsed": true
   },
   "source": [
    "---\n",
    "## <span style=\"color:#0b486b\">6. FIle I/O</span>"
   ]
  },
  {
   "cell_type": "markdown",
   "metadata": {},
   "source": [
    "<a id = \"txt\"></a>\n",
    "### <span style=\"color:#0b486b\">6.1 TXT</span>\n"
   ]
  },
  {
   "cell_type": "markdown",
   "metadata": {},
   "source": [
    "TXT file format is the most simplestic way to store data. \n",
    "\n",
    "Load a TXT file with `'np.loadtxt()'`:"
   ]
  },
  {
   "cell_type": "code",
   "execution_count": null,
   "metadata": {},
   "outputs": [],
   "source": [
    "import numpy as np\n",
    "x = np.loadtxt(\"data/txt_data1.txt\")\n",
    "x"
   ]
  },
  {
   "cell_type": "markdown",
   "metadata": {},
   "source": [
    "Save a TXT file with `'np.savetxt()'`:"
   ]
  },
  {
   "cell_type": "code",
   "execution_count": 39,
   "metadata": {},
   "outputs": [
    {
     "data": {
      "text/plain": [
       "array([4, 2, 9, 8, 2])"
      ]
     },
     "execution_count": 39,
     "metadata": {},
     "output_type": "execute_result"
    }
   ],
   "source": [
    "y = np.random.randint(10, size=5)\n",
    "np.savetxt(r\"F:\\郁金香\\Image\\txt_data2.txt\", y)\n",
    "y"
   ]
  },
  {
   "cell_type": "markdown",
   "metadata": {
    "collapsed": true
   },
   "source": [
    "<a id = \"csv\"></a>\n",
    "### <span style=\"color:#0b486b\">6.2 CSV</span>\n",
    "\n"
   ]
  },
  {
   "cell_type": "markdown",
   "metadata": {},
   "source": [
    "Comma Separated Values format and its variations, are one the most used file format to store data.\n",
    "\n",
    "You can use `'np.genfromtxt()'` to read a CSV file:\n",
    "\n",
    "**NOTE:** The best way to read CSV and XLS files is using **pandas** package that will be introduced later."
   ]
  },
  {
   "cell_type": "code",
   "execution_count": null,
   "metadata": {},
   "outputs": [],
   "source": [
    "x = np.genfromtxt(\"data/csv_data1.csv\", delimiter=\",\")\n",
    "x"
   ]
  },
  {
   "cell_type": "markdown",
   "metadata": {},
   "source": [
    "Use `'np.savetxt()'` to save a 2d-array in a CSV file."
   ]
  },
  {
   "cell_type": "code",
   "execution_count": null,
   "metadata": {},
   "outputs": [],
   "source": [
    "x = np.random.randint(10, size=(6,4))\n",
    "np.savetxt(\"data/csv_data2.csv\", x, delimiter=',')\n",
    "x"
   ]
  },
  {
   "cell_type": "markdown",
   "metadata": {},
   "source": [
    "<a id = \"json\"></a>\n",
    "### <span style=\"color:#0b486b\">6.3 JSON</span>\n",
    "\n",
    "\n",
    "JSON is the most used file format when dealing with web services. \n",
    "\n",
    "To read a JSON file, use `'json'` package and `'load()'` function, or `'loads()'` if the data is serialized. It reads the data and parses it into a dictionary."
   ]
  },
  {
   "cell_type": "code",
   "execution_count": 42,
   "metadata": {},
   "outputs": [
    {
     "data": {
      "text/plain": [
       "dict_keys(['firstName', 'lastName', 'isAlive', 'age', 'address', 'phoneNumbers', 'children', 'spouse'])"
      ]
     },
     "execution_count": 42,
     "metadata": {},
     "output_type": "execute_result"
    }
   ],
   "source": [
    "import json\n",
    "with open(\"F:\\郁金香\\Data\\json_data1.json\", 'rb') as fp:\n",
    "    fcontent = fp.read()\n",
    "data = json.loads(fcontent)\n",
    "data.keys()"
   ]
  },
  {
   "cell_type": "code",
   "execution_count": null,
   "metadata": {},
   "outputs": [],
   "source": [
    "data\n"
   ]
  },
  {
   "cell_type": "code",
   "execution_count": null,
   "metadata": {},
   "outputs": [],
   "source": [
    "data['phoneNumbers']"
   ]
  },
  {
   "cell_type": "markdown",
   "metadata": {},
   "source": [
    "You can also write a python dictionary into a JSON file. To do this use `'dump()'` or `'dumps()'` functions."
   ]
  },
  {
   "cell_type": "code",
   "execution_count": null,
   "metadata": {},
   "outputs": [],
   "source": [
    "data = [{'Name': 'Zara', 'Age': 7, 'Class': 'First'}, \n",
    "        {'Name': 'Lily', 'Age': 9, 'Class': 'Third'}];\n",
    "data"
   ]
  },
  {
   "cell_type": "code",
   "execution_count": null,
   "metadata": {
    "collapsed": true
   },
   "outputs": [],
   "source": [
    "with open(\"data/json_data_now.json\", 'wb') as fp:\n",
    "    json.dump(data, fp)"
   ]
  }
 ],
 "metadata": {
  "anaconda-cloud": {},
  "kernelspec": {
   "name": "python382jvsc74a57bd09ae45dc70329aa2ae7082a27e3aedc7e158e0be35097712bddadeb53639cfa3e",
   "display_name": "Python 3.8.2 64-bit ('pyspark': conda)"
  },
  "language_info": {
   "codemirror_mode": {
    "name": "ipython",
    "version": 3
   },
   "file_extension": ".py",
   "mimetype": "text/x-python",
   "name": "python",
   "nbconvert_exporter": "python",
   "pygments_lexer": "ipython3",
   "version": "3.8.2"
  },
  "metadata": {
   "interpreter": {
    "hash": "9ae45dc70329aa2ae7082a27e3aedc7e158e0be35097712bddadeb53639cfa3e"
   }
  }
 },
 "nbformat": 4,
 "nbformat_minor": 1
}